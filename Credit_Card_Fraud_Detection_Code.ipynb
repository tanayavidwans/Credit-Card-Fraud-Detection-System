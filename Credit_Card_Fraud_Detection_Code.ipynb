{
 "cells": [
  {
   "cell_type": "code",
   "execution_count": 10,
   "metadata": {
    "id": "iIcFEAEp4BqX"
   },
   "outputs": [],
   "source": [
    "# Import required libraries\n",
    "import pandas as pd\n",
    "import numpy as np\n",
    "from sklearn.model_selection import StratifiedKFold\n",
    "from sklearn.preprocessing import StandardScaler\n",
    "from sklearn.ensemble import RandomForestClassifier\n",
    "from sklearn.linear_model import LogisticRegression\n",
    "from sklearn.tree import DecisionTreeClassifier\n",
    "from sklearn.neighbors import KNeighborsClassifier\n",
    "from sklearn.metrics import classification_report, roc_auc_score, accuracy_score, roc_curve\n",
    "import matplotlib.pyplot as plt\n",
    "import seaborn as sns"
   ]
  },
  {
   "cell_type": "code",
   "execution_count": null,
   "metadata": {
    "colab": {
     "base_uri": "https://localhost:8080/",
     "height": 73
    },
    "id": "bePR0R103kan",
    "outputId": "cdcffa22-d542-4c38-a455-6fcd4fe8ea7f"
   },
   "outputs": [],
   "source": [
    "from google.colab import files\n",
    "uploaded = files.upload()"
   ]
  },
  {
   "cell_type": "code",
   "execution_count": null,
   "metadata": {
    "id": "yXvD5DQC4NiA"
   },
   "outputs": [],
   "source": [
    "# Load the dataset (assuming only one file is uploaded)\n",
    "data = pd.read_csv(list(uploaded.keys())[0])"
   ]
  },
  {
   "cell_type": "code",
   "execution_count": null,
   "metadata": {
    "colab": {
     "base_uri": "https://localhost:8080/"
    },
    "id": "JI_wkJkB4dWb",
    "outputId": "f26964da-d0c0-4e14-cb00-f15813085899"
   },
   "outputs": [
    {
     "name": "stdout",
     "output_type": "stream",
     "text": [
      "   Time        V1        V2        V3        V4        V5        V6        V7  \\\n",
      "0   0.0 -1.359807 -0.072781  2.536347  1.378155 -0.338321  0.462388  0.239599   \n",
      "1   0.0  1.191857  0.266151  0.166480  0.448154  0.060018 -0.082361 -0.078803   \n",
      "2   1.0 -1.358354 -1.340163  1.773209  0.379780 -0.503198  1.800499  0.791461   \n",
      "3   1.0 -0.966272 -0.185226  1.792993 -0.863291 -0.010309  1.247203  0.237609   \n",
      "4   2.0 -1.158233  0.877737  1.548718  0.403034 -0.407193  0.095921  0.592941   \n",
      "\n",
      "         V8        V9  ...       V28  Amount  Class  scaled_Amount  \\\n",
      "0  0.098698  0.363787  ... -0.021053  149.62      0       0.244964   \n",
      "1  0.085102 -0.255425  ...  0.014724    2.69      0      -0.342475   \n",
      "2  0.247676 -1.514654  ... -0.059752  378.66      0       1.160686   \n",
      "3  0.377436 -1.387024  ...  0.061458  123.50      0       0.140534   \n",
      "4 -0.270533  0.817739  ...  0.215153   69.99      0      -0.073403   \n",
      "\n",
      "   scaled_Time  Hour  Amount_Bucket_1  Amount_Bucket_2  Amount_Bucket_3  \\\n",
      "0    -1.996583  23.0            False            False             True   \n",
      "1    -1.996583  23.0            False            False            False   \n",
      "2    -1.996562  23.0            False            False            False   \n",
      "3    -1.996562  23.0            False            False             True   \n",
      "4    -1.996541  23.0            False             True            False   \n",
      "\n",
      "   Amount_Bucket_4  \n",
      "0            False  \n",
      "1            False  \n",
      "2             True  \n",
      "3            False  \n",
      "4            False  \n",
      "\n",
      "[5 rows x 38 columns]\n",
      "                Time            V1            V2            V3            V4  \\\n",
      "count  284807.000000  2.848070e+05  2.848070e+05  2.848070e+05  2.848070e+05   \n",
      "mean    94813.859575  1.168375e-15  3.416908e-16 -1.379537e-15  2.074095e-15   \n",
      "std     47488.145955  1.958696e+00  1.651309e+00  1.516255e+00  1.415869e+00   \n",
      "min         0.000000 -5.640751e+01 -7.271573e+01 -4.832559e+01 -5.683171e+00   \n",
      "25%     54201.500000 -9.203734e-01 -5.985499e-01 -8.903648e-01 -8.486401e-01   \n",
      "50%     84692.000000  1.810880e-02  6.548556e-02  1.798463e-01 -1.984653e-02   \n",
      "75%    139320.500000  1.315642e+00  8.037239e-01  1.027196e+00  7.433413e-01   \n",
      "max    172792.000000  2.454930e+00  2.205773e+01  9.382558e+00  1.687534e+01   \n",
      "\n",
      "                 V5            V6            V7            V8            V9  \\\n",
      "count  2.848070e+05  2.848070e+05  2.848070e+05  2.848070e+05  2.848070e+05   \n",
      "mean   9.604066e-16  1.487313e-15 -5.556467e-16  1.213481e-16 -2.406331e-15   \n",
      "std    1.380247e+00  1.332271e+00  1.237094e+00  1.194353e+00  1.098632e+00   \n",
      "min   -1.137433e+02 -2.616051e+01 -4.355724e+01 -7.321672e+01 -1.343407e+01   \n",
      "25%   -6.915971e-01 -7.682956e-01 -5.540759e-01 -2.086297e-01 -6.430976e-01   \n",
      "50%   -5.433583e-02 -2.741871e-01  4.010308e-02  2.235804e-02 -5.142873e-02   \n",
      "75%    6.119264e-01  3.985649e-01  5.704361e-01  3.273459e-01  5.971390e-01   \n",
      "max    3.480167e+01  7.330163e+01  1.205895e+02  2.000721e+01  1.559499e+01   \n",
      "\n",
      "       ...           V24           V25           V26           V27  \\\n",
      "count  ...  2.848070e+05  2.848070e+05  2.848070e+05  2.848070e+05   \n",
      "mean   ...  4.473266e-15  5.340915e-16  1.683437e-15 -3.660091e-16   \n",
      "std    ...  6.056471e-01  5.212781e-01  4.822270e-01  4.036325e-01   \n",
      "min    ... -2.836627e+00 -1.029540e+01 -2.604551e+00 -2.256568e+01   \n",
      "25%    ... -3.545861e-01 -3.171451e-01 -3.269839e-01 -7.083953e-02   \n",
      "50%    ...  4.097606e-02  1.659350e-02 -5.213911e-02  1.342146e-03   \n",
      "75%    ...  4.395266e-01  3.507156e-01  2.409522e-01  9.104512e-02   \n",
      "max    ...  4.584549e+00  7.519589e+00  3.517346e+00  3.161220e+01   \n",
      "\n",
      "                V28         Amount          Class  scaled_Amount  \\\n",
      "count  2.848070e+05  284807.000000  284807.000000   2.848070e+05   \n",
      "mean  -1.227390e-16      88.349619       0.001727   2.913952e-17   \n",
      "std    3.300833e-01     250.120109       0.041527   1.000002e+00   \n",
      "min   -1.543008e+01       0.000000       0.000000  -3.532294e-01   \n",
      "25%   -5.295979e-02       5.600000       0.000000  -3.308401e-01   \n",
      "50%    1.124383e-02      22.000000       0.000000  -2.652715e-01   \n",
      "75%    7.827995e-02      77.165000       0.000000  -4.471707e-02   \n",
      "max    3.384781e+01   25691.160000       1.000000   1.023622e+02   \n",
      "\n",
      "        scaled_Time           Hour  \n",
      "count  2.848070e+05  284807.000000  \n",
      "mean  -3.065637e-16      12.207063  \n",
      "std    1.000002e+00      11.478263  \n",
      "min   -1.996583e+00       0.000000  \n",
      "25%   -8.552120e-01       0.000000  \n",
      "50%   -2.131453e-01      23.000000  \n",
      "75%    9.372174e-01      23.000000  \n",
      "max    1.642058e+00      23.000000  \n",
      "\n",
      "[8 rows x 34 columns]\n",
      "<class 'pandas.core.frame.DataFrame'>\n",
      "RangeIndex: 284807 entries, 0 to 284806\n",
      "Data columns (total 38 columns):\n",
      " #   Column           Non-Null Count   Dtype  \n",
      "---  ------           --------------   -----  \n",
      " 0   Time             284807 non-null  float64\n",
      " 1   V1               284807 non-null  float64\n",
      " 2   V2               284807 non-null  float64\n",
      " 3   V3               284807 non-null  float64\n",
      " 4   V4               284807 non-null  float64\n",
      " 5   V5               284807 non-null  float64\n",
      " 6   V6               284807 non-null  float64\n",
      " 7   V7               284807 non-null  float64\n",
      " 8   V8               284807 non-null  float64\n",
      " 9   V9               284807 non-null  float64\n",
      " 10  V10              284807 non-null  float64\n",
      " 11  V11              284807 non-null  float64\n",
      " 12  V12              284807 non-null  float64\n",
      " 13  V13              284807 non-null  float64\n",
      " 14  V14              284807 non-null  float64\n",
      " 15  V15              284807 non-null  float64\n",
      " 16  V16              284807 non-null  float64\n",
      " 17  V17              284807 non-null  float64\n",
      " 18  V18              284807 non-null  float64\n",
      " 19  V19              284807 non-null  float64\n",
      " 20  V20              284807 non-null  float64\n",
      " 21  V21              284807 non-null  float64\n",
      " 22  V22              284807 non-null  float64\n",
      " 23  V23              284807 non-null  float64\n",
      " 24  V24              284807 non-null  float64\n",
      " 25  V25              284807 non-null  float64\n",
      " 26  V26              284807 non-null  float64\n",
      " 27  V27              284807 non-null  float64\n",
      " 28  V28              284807 non-null  float64\n",
      " 29  Amount           284807 non-null  float64\n",
      " 30  Class            284807 non-null  int64  \n",
      " 31  scaled_Amount    284807 non-null  float64\n",
      " 32  scaled_Time      284807 non-null  float64\n",
      " 33  Hour             284807 non-null  float64\n",
      " 34  Amount_Bucket_1  284807 non-null  bool   \n",
      " 35  Amount_Bucket_2  284807 non-null  bool   \n",
      " 36  Amount_Bucket_3  284807 non-null  bool   \n",
      " 37  Amount_Bucket_4  284807 non-null  bool   \n",
      "dtypes: bool(4), float64(33), int64(1)\n",
      "memory usage: 75.0 MB\n",
      "None\n",
      "No Frauds 99.83 % of the dataset\n",
      "Frauds 0.17 % of the dataset\n"
     ]
    }
   ],
   "source": [
    "# Check the first few rows\n",
    "print(data.head())\n",
    "print(data.describe())\n",
    "\n",
    "# Check for missing values and data types\n",
    "print(data.info())\n",
    "\n",
    "# Check for missing values in each column\n",
    "data.isnull().sum().max()\n",
    "\n",
    "print('No Frauds', round(data['Class'].value_counts()[0]/len(data) * 100,2), '% of the dataset')\n",
    "print('Frauds', round(data['Class'].value_counts()[1]/len(data) * 100,2), '% of the dataset')"
   ]
  },
  {
   "cell_type": "code",
   "execution_count": null,
   "metadata": {
    "colab": {
     "base_uri": "https://localhost:8080/",
     "height": 890
    },
    "id": "vT0wXBKU4n22",
    "outputId": "a1754852-bc8f-4820-cb14-98cbc09d73a8"
   },
   "outputs": [
    {
     "name": "stderr",
     "output_type": "stream",
     "text": [
      "<ipython-input-11-8c49ec51ec88>:8: FutureWarning: \n",
      "\n",
      "Passing `palette` without assigning `hue` is deprecated and will be removed in v0.14.0. Assign the `x` variable to `hue` and set `legend=False` for the same effect.\n",
      "\n",
      "  sns.countplot(x='Class', data=data, palette=colors, legend=False)\n"
     ]
    },
    {
     "data": {
      "image/png": "[encoded data removed]",
      "text/plain": [
       "<Figure size 640x480 with 1 Axes>"
      ]
     },
     "metadata": {},
     "output_type": "display_data"
    },
    {
     "data": {
      "image/png": "[encoded data removed]",
      "text/plain": [
       "<Figure size 1800x400 with 2 Axes>"
      ]
     },
     "metadata": {},
     "output_type": "display_data"
    }
   ],
   "source": [
    "# Visual representation of the dataset\n",
    "import seaborn as sns\n",
    "import matplotlib.pyplot as plt\n",
    "\n",
    "colors = [\"#0101DF\", \"#DF0101\"]\n",
    "\n",
    "# Countplot with updated parameters\n",
    "sns.countplot(x='Class', data=data, palette=colors, legend=False)\n",
    "plt.title('Class Distributions \\n (0: No Fraud || 1: Fraud)', fontsize=14)\n",
    "\n",
    "# Subplots for histograms\n",
    "fig, ax = plt.subplots(1, 2, figsize=(18, 4))\n",
    "\n",
    "amount_val = data['Amount'].values\n",
    "time_val = data['Time'].values\n",
    "\n",
    "# Histogram for transaction amount\n",
    "sns.histplot(amount_val, ax=ax[0], color='r', kde=True)\n",
    "ax[0].set_title('Distribution of Transaction Amount', fontsize=14)\n",
    "ax[0].set_xlim([min(amount_val), max(amount_val)])\n",
    "\n",
    "# Histogram for transaction time\n",
    "sns.histplot(time_val, ax=ax[1], color='b', kde=True)\n",
    "ax[1].set_title('Distribution of Transaction Time', fontsize=14)\n",
    "ax[1].set_xlim([min(time_val), max(time_val)])\n",
    "\n",
    "# Show the plot\n",
    "plt.tight_layout()\n",
    "plt.show()\n"
   ]
  },
  {
   "cell_type": "code",
   "execution_count": null,
   "metadata": {
    "colab": {
     "base_uri": "https://localhost:8080/"
    },
    "id": "Ut2GusSH4ZI2",
    "outputId": "4342b7f9-305d-4453-f34b-cfd2f083d9ab"
   },
   "outputs": [
    {
     "name": "stdout",
     "output_type": "stream",
     "text": [
      "   Time  Amount  scaled_Time  scaled_Amount\n",
      "0   0.0  149.62    -1.996583       0.244964\n",
      "1   0.0    2.69    -1.996583      -0.342475\n",
      "2   1.0  378.66    -1.996562       1.160686\n",
      "3   1.0  123.50    -1.996562       0.140534\n",
      "4   2.0   69.99    -1.996541      -0.073403\n",
      "            Time         V1         V2        V3        V4        V5  \\\n",
      "0            0.0  -1.359807  -0.072781  2.536347  1.378155 -0.338321   \n",
      "1            0.0   1.191857   0.266151  0.166480  0.448154  0.060018   \n",
      "2            1.0  -1.358354  -1.340163  1.773209  0.379780 -0.503198   \n",
      "3            1.0  -0.966272  -0.185226  1.792993 -0.863291 -0.010309   \n",
      "4            2.0  -1.158233   0.877737  1.548718  0.403034 -0.407193   \n",
      "...          ...        ...        ...       ...       ...       ...   \n",
      "284802  172786.0 -11.881118  10.071785 -9.834783 -2.066656 -5.364473   \n",
      "284803  172787.0  -0.732789  -0.055080  2.035030 -0.738589  0.868229   \n",
      "284804  172788.0   1.919565  -0.301254 -3.249640 -0.557828  2.630515   \n",
      "284805  172788.0  -0.240440   0.530483  0.702510  0.689799 -0.377961   \n",
      "284806  172792.0  -0.533413  -0.189733  0.703337 -0.506271 -0.012546   \n",
      "\n",
      "              V6        V7        V8        V9  ...       V25       V26  \\\n",
      "0       0.462388  0.239599  0.098698  0.363787  ...  0.128539 -0.189115   \n",
      "1      -0.082361 -0.078803  0.085102 -0.255425  ...  0.167170  0.125895   \n",
      "2       1.800499  0.791461  0.247676 -1.514654  ... -0.327642 -0.139097   \n",
      "3       1.247203  0.237609  0.377436 -1.387024  ...  0.647376 -0.221929   \n",
      "4       0.095921  0.592941 -0.270533  0.817739  ... -0.206010  0.502292   \n",
      "...          ...       ...       ...       ...  ...       ...       ...   \n",
      "284802 -2.606837 -4.918215  7.305334  1.914428  ...  1.436807  0.250034   \n",
      "284803  1.058415  0.024330  0.294869  0.584800  ... -0.606624 -0.395255   \n",
      "284804  3.031260 -0.296827  0.708417  0.432454  ...  0.265745 -0.087371   \n",
      "284805  0.623708 -0.686180  0.679145  0.392087  ... -0.569159  0.546668   \n",
      "284806 -0.649617  1.577006 -0.414650  0.486180  ... -0.473649 -0.818267   \n",
      "\n",
      "             V27       V28  Amount  Class  scaled_Amount  scaled_Time  Hour  \\\n",
      "0       0.133558 -0.021053  149.62      0       0.244964    -1.996583  23.0   \n",
      "1      -0.008983  0.014724    2.69      0      -0.342475    -1.996583  23.0   \n",
      "2      -0.055353 -0.059752  378.66      0       1.160686    -1.996562  23.0   \n",
      "3       0.062723  0.061458  123.50      0       0.140534    -1.996562  23.0   \n",
      "4       0.219422  0.215153   69.99      0      -0.073403    -1.996541  23.0   \n",
      "...          ...       ...     ...    ...            ...          ...   ...   \n",
      "284802  0.943651  0.823731    0.77      0      -0.350151     1.641931   0.0   \n",
      "284803  0.068472 -0.053527   24.79      0      -0.254117     1.641952   0.0   \n",
      "284804  0.004455 -0.026561   67.88      0      -0.081839     1.641974   0.0   \n",
      "284805  0.108821  0.104533   10.00      0      -0.313249     1.641974   0.0   \n",
      "284806 -0.002415  0.013649  217.00      0       0.514355     1.642058   0.0   \n",
      "\n",
      "        Amount_Bucket  \n",
      "0                   3  \n",
      "1                   0  \n",
      "2                   4  \n",
      "3                   3  \n",
      "4                   2  \n",
      "...               ...  \n",
      "284802              0  \n",
      "284803              2  \n",
      "284804              2  \n",
      "284805              1  \n",
      "284806              3  \n",
      "\n",
      "[284807 rows x 35 columns]\n"
     ]
    }
   ],
   "source": [
    "# Step 1: Preprocessing\n",
    "\n",
    "# Standardize 'Amount' and 'Time'\n",
    "amount_scaler = StandardScaler()\n",
    "time_scaler = StandardScaler()\n",
    "data['scaled_Amount'] = amount_scaler.fit_transform(data['Amount'].values.reshape(-1,1))\n",
    "data['scaled_Time'] = time_scaler.fit_transform(data['Time'].values.reshape(-1,1))\n",
    "\n",
    "# Verify the standardization\n",
    "print(data[['Time', 'Amount', 'scaled_Time' , 'scaled_Amount']].head())\n",
    "\n",
    "# Step 2: Feature Engineering - Add 'Hour' and 'Amount_Bucket'\n",
    "data['Hour'] = (data['scaled_Time'] // 3600) % 24\n",
    "\n",
    "# Since we scaled 'Amount', we need to calculate percentiles and accordingly assign labels to 'Amount_Bucket'\n",
    "percentiles = np.percentile(data['scaled_Amount'], [25, 50, 75, 95])\n",
    "data['Amount_Bucket'] = pd.cut(data['scaled_Amount'], bins=[-float('inf')] + list(percentiles) + [float('inf')], labels=False)\n",
    "print(data)\n",
    "\n",
    "# One-hot encode 'Amount_Bucket'\n",
    "data = pd.get_dummies(data, columns=['Amount_Bucket'], drop_first=True)"
   ]
  },
  {
   "cell_type": "code",
   "execution_count": null,
   "metadata": {
    "id": "N4wvVO4_9wL1"
   },
   "outputs": [],
   "source": [
    "# Step 3: Separate features and target\n",
    "X = data.drop(columns=['Class'])\n",
    "y = data['Class']"
   ]
  },
  {
   "cell_type": "code",
   "execution_count": null,
   "metadata": {
    "id": "LwefB2pc9zsA"
   },
   "outputs": [],
   "source": [
    "# Define models to evaluate\n",
    "models = {\n",
    "    'Random Forest': RandomForestClassifier(random_state=42, n_estimators=100, class_weight='balanced'),\n",
    "    'Logistic Regression': LogisticRegression(random_state=42, class_weight='balanced', max_iter=1000),\n",
    "    'Decision Tree': DecisionTreeClassifier(random_state=42, class_weight='balanced'),\n",
    "    'KNN': KNeighborsClassifier(n_neighbors=5)\n",
    "}"
   ]
  },
  {
   "cell_type": "code",
   "execution_count": null,
   "metadata": {
    "colab": {
     "base_uri": "https://localhost:8080/"
    },
    "id": "55-ThxC4Glt4",
    "outputId": "37374944-8790-404e-9eef-bb97b4fd531d"
   },
   "outputs": [
    {
     "name": "stdout",
     "output_type": "stream",
     "text": [
      "Evaluating Random Forest...\n",
      "  Fold 1...\n",
      "  Fold 2...\n",
      "  Fold 3...\n",
      "  Fold 4...\n",
      "  Fold 5...\n",
      "  Average Accuracy: 0.9995\n",
      "  Average ROC AUC: 0.9477\n",
      "Evaluating Logistic Regression...\n",
      "  Fold 1...\n"
     ]
    },
    {
     "name": "stderr",
     "output_type": "stream",
     "text": [
      "/usr/local/lib/python3.10/dist-packages/sklearn/linear_model/_logistic.py:469: ConvergenceWarning: lbfgs failed to converge (status=1):\n",
      "STOP: TOTAL NO. of ITERATIONS REACHED LIMIT.\n",
      "\n",
      "Increase the number of iterations (max_iter) or scale the data as shown in:\n",
      "    https://scikit-learn.org/stable/modules/preprocessing.html\n",
      "Please also refer to the documentation for alternative solver options:\n",
      "    https://scikit-learn.org/stable/modules/linear_model.html#logistic-regression\n",
      "  n_iter_i = _check_optimize_result(\n"
     ]
    },
    {
     "name": "stdout",
     "output_type": "stream",
     "text": [
      "  Fold 2...\n"
     ]
    },
    {
     "name": "stderr",
     "output_type": "stream",
     "text": [
      "/usr/local/lib/python3.10/dist-packages/sklearn/linear_model/_logistic.py:469: ConvergenceWarning: lbfgs failed to converge (status=1):\n",
      "STOP: TOTAL NO. of ITERATIONS REACHED LIMIT.\n",
      "\n",
      "Increase the number of iterations (max_iter) or scale the data as shown in:\n",
      "    https://scikit-learn.org/stable/modules/preprocessing.html\n",
      "Please also refer to the documentation for alternative solver options:\n",
      "    https://scikit-learn.org/stable/modules/linear_model.html#logistic-regression\n",
      "  n_iter_i = _check_optimize_result(\n"
     ]
    },
    {
     "name": "stdout",
     "output_type": "stream",
     "text": [
      "  Fold 3...\n"
     ]
    },
    {
     "name": "stderr",
     "output_type": "stream",
     "text": [
      "/usr/local/lib/python3.10/dist-packages/sklearn/linear_model/_logistic.py:469: ConvergenceWarning: lbfgs failed to converge (status=1):\n",
      "STOP: TOTAL NO. of ITERATIONS REACHED LIMIT.\n",
      "\n",
      "Increase the number of iterations (max_iter) or scale the data as shown in:\n",
      "    https://scikit-learn.org/stable/modules/preprocessing.html\n",
      "Please also refer to the documentation for alternative solver options:\n",
      "    https://scikit-learn.org/stable/modules/linear_model.html#logistic-regression\n",
      "  n_iter_i = _check_optimize_result(\n"
     ]
    },
    {
     "name": "stdout",
     "output_type": "stream",
     "text": [
      "  Fold 4...\n"
     ]
    },
    {
     "name": "stderr",
     "output_type": "stream",
     "text": [
      "/usr/local/lib/python3.10/dist-packages/sklearn/linear_model/_logistic.py:469: ConvergenceWarning: lbfgs failed to converge (status=1):\n",
      "STOP: TOTAL NO. of ITERATIONS REACHED LIMIT.\n",
      "\n",
      "Increase the number of iterations (max_iter) or scale the data as shown in:\n",
      "    https://scikit-learn.org/stable/modules/preprocessing.html\n",
      "Please also refer to the documentation for alternative solver options:\n",
      "    https://scikit-learn.org/stable/modules/linear_model.html#logistic-regression\n",
      "  n_iter_i = _check_optimize_result(\n"
     ]
    },
    {
     "name": "stdout",
     "output_type": "stream",
     "text": [
      "  Fold 5...\n"
     ]
    },
    {
     "name": "stderr",
     "output_type": "stream",
     "text": [
      "/usr/local/lib/python3.10/dist-packages/sklearn/linear_model/_logistic.py:469: ConvergenceWarning: lbfgs failed to converge (status=1):\n",
      "STOP: TOTAL NO. of ITERATIONS REACHED LIMIT.\n",
      "\n",
      "Increase the number of iterations (max_iter) or scale the data as shown in:\n",
      "    https://scikit-learn.org/stable/modules/preprocessing.html\n",
      "Please also refer to the documentation for alternative solver options:\n",
      "    https://scikit-learn.org/stable/modules/linear_model.html#logistic-regression\n",
      "  n_iter_i = _check_optimize_result(\n"
     ]
    },
    {
     "name": "stdout",
     "output_type": "stream",
     "text": [
      "  Average Accuracy: 0.9725\n",
      "  Average ROC AUC: 0.9787\n",
      "Evaluating Decision Tree...\n",
      "  Fold 1...\n",
      "  Fold 2...\n",
      "  Fold 3...\n",
      "  Fold 4...\n",
      "  Fold 5...\n",
      "  Average Accuracy: 0.9992\n",
      "  Average ROC AUC: 0.8707\n",
      "Evaluating KNN...\n",
      "  Fold 1...\n",
      "  Fold 2...\n",
      "  Fold 3...\n",
      "  Fold 4...\n",
      "  Fold 5...\n",
      "  Average Accuracy: 0.9984\n",
      "  Average ROC AUC: 0.6095\n",
      "\n",
      "Final Results for Random Forest:\n",
      "  Accuracy: 0.9995\n",
      "  ROC AUC: 0.9477\n",
      "\n",
      "Final Results for Logistic Regression:\n",
      "  Accuracy: 0.9725\n",
      "  ROC AUC: 0.9787\n",
      "\n",
      "Final Results for Decision Tree:\n",
      "  Accuracy: 0.9992\n",
      "  ROC AUC: 0.8707\n",
      "\n",
      "Final Results for KNN:\n",
      "  Accuracy: 0.9984\n",
      "  ROC AUC: 0.6095\n"
     ]
    }
   ],
   "source": [
    "from sklearn.metrics import accuracy_score, roc_auc_score\n",
    "from collections import defaultdict\n",
    "\n",
    "# Step 4: Perform Stratified K-Fold Cross-Validation\n",
    "kfold = StratifiedKFold(n_splits=5, shuffle=True, random_state=42)\n",
    "\n",
    "# Results storage\n",
    "results = defaultdict(lambda: {\"accuracy\": [], \"roc_auc\": []})\n",
    "\n",
    "# Evaluate each model\n",
    "for model_name, model in models.items():\n",
    "    print(f\"Evaluating {model_name}...\")\n",
    "\n",
    "    fold = 1\n",
    "    for train_idx, test_idx in kfold.split(X, y):\n",
    "        print(f\"  Fold {fold}...\")\n",
    "        # Subset the data for the current fold\n",
    "        X_train, X_test = X.iloc[train_idx], X.iloc[test_idx]\n",
    "        y_train, y_test = y.iloc[train_idx], y.iloc[test_idx]\n",
    "\n",
    "        # Train the model\n",
    "        model.fit(X_train, y_train)\n",
    "\n",
    "        # Predict on the test set\n",
    "        y_pred = model.predict(X_test)\n",
    "\n",
    "        # Evaluate accuracy\n",
    "        accuracy = accuracy_score(y_test, y_pred)\n",
    "        results[model_name]['accuracy'].append(accuracy)\n",
    "\n",
    "        # Evaluate ROC AUC if probabilities are available\n",
    "        if hasattr(model, \"predict_proba\"):\n",
    "            y_proba = model.predict_proba(X_test)[:, 1]\n",
    "            roc_auc = roc_auc_score(y_test, y_proba)\n",
    "            results[model_name]['roc_auc'].append(roc_auc)\n",
    "\n",
    "        fold += 1\n",
    "\n",
    "    # Average metrics across folds\n",
    "    avg_accuracy = np.mean(results[model_name]['accuracy'])\n",
    "    avg_roc_auc = np.mean(results[model_name]['roc_auc']) if results[model_name]['roc_auc'] else None\n",
    "\n",
    "    print(f\"  Average Accuracy: {avg_accuracy:.4f}\")\n",
    "    if avg_roc_auc:\n",
    "        print(f\"  Average ROC AUC: {avg_roc_auc:.4f}\")\n",
    "\n",
    "# Summarize results\n",
    "for model_name, metrics in results.items():\n",
    "    print(f\"\\nFinal Results for {model_name}:\")\n",
    "    print(f\"  Accuracy: {np.mean(metrics['accuracy']):.4f}\")\n",
    "    if metrics['roc_auc']:\n",
    "        print(f\"  ROC AUC: {np.mean(metrics['roc_auc']):.4f}\")\n"
   ]
  },
  {
   "cell_type": "code",
   "execution_count": null,
   "metadata": {
    "colab": {
     "base_uri": "https://localhost:8080/",
     "height": 1000
    },
    "id": "-SWIUfjMOQJA",
    "outputId": "a21904ca-6213-4f6b-8c8a-f99b19d3fd38"
   },
   "outputs": [
    {
     "data": {
      "image/png": "[encoded data removed]",
      "text/plain": [
       "<Figure size 1000x500 with 1 Axes>"
      ]
     },
     "metadata": {},
     "output_type": "display_data"
    },
    {
     "data": {
      "image/png": "[encoded data removed]",
      "text/plain": [
       "<Figure size 1000x500 with 1 Axes>"
      ]
     },
     "metadata": {},
     "output_type": "display_data"
    },
    {
     "name": "stdout",
     "output_type": "stream",
     "text": [
      "\n",
      "Detailed Classification Report for Random Forest (Last Fold):\n",
      "              precision    recall  f1-score   support\n",
      "\n",
      "           0       1.00      1.00      1.00     56863\n",
      "           1       0.91      0.73      0.81        98\n",
      "\n",
      "    accuracy                           1.00     56961\n",
      "   macro avg       0.96      0.87      0.91     56961\n",
      "weighted avg       1.00      1.00      1.00     56961\n",
      "\n",
      "\n",
      "Detailed Classification Report for Logistic Regression (Last Fold):\n"
     ]
    },
    {
     "name": "stderr",
     "output_type": "stream",
     "text": [
      "/usr/local/lib/python3.10/dist-packages/sklearn/linear_model/_logistic.py:469: ConvergenceWarning: lbfgs failed to converge (status=1):\n",
      "STOP: TOTAL NO. of ITERATIONS REACHED LIMIT.\n",
      "\n",
      "Increase the number of iterations (max_iter) or scale the data as shown in:\n",
      "    https://scikit-learn.org/stable/modules/preprocessing.html\n",
      "Please also refer to the documentation for alternative solver options:\n",
      "    https://scikit-learn.org/stable/modules/linear_model.html#logistic-regression\n",
      "  n_iter_i = _check_optimize_result(\n"
     ]
    },
    {
     "name": "stdout",
     "output_type": "stream",
     "text": [
      "              precision    recall  f1-score   support\n",
      "\n",
      "           0       1.00      0.97      0.99     56863\n",
      "           1       0.06      0.87      0.10        98\n",
      "\n",
      "    accuracy                           0.97     56961\n",
      "   macro avg       0.53      0.92      0.55     56961\n",
      "weighted avg       1.00      0.97      0.99     56961\n",
      "\n",
      "\n",
      "Detailed Classification Report for Decision Tree (Last Fold):\n",
      "              precision    recall  f1-score   support\n",
      "\n",
      "           0       1.00      1.00      1.00     56863\n",
      "           1       0.67      0.67      0.67        98\n",
      "\n",
      "    accuracy                           1.00     56961\n",
      "   macro avg       0.84      0.84      0.84     56961\n",
      "weighted avg       1.00      1.00      1.00     56961\n",
      "\n",
      "\n",
      "Detailed Classification Report for KNN (Last Fold):\n",
      "              precision    recall  f1-score   support\n",
      "\n",
      "           0       1.00      1.00      1.00     56863\n",
      "           1       1.00      0.04      0.08        98\n",
      "\n",
      "    accuracy                           1.00     56961\n",
      "   macro avg       1.00      0.52      0.54     56961\n",
      "weighted avg       1.00      1.00      1.00     56961\n",
      "\n"
     ]
    }
   ],
   "source": [
    "# Step 6: Visualize Results\n",
    "# Accuracy Bar Plot\n",
    "plt.figure(figsize=(10, 5))\n",
    "sns.barplot(x=list(models.keys()), y=avg_accuracy)\n",
    "plt.title('Average Accuracy Across Models')\n",
    "plt.ylabel('Accuracy')\n",
    "plt.show()\n",
    "\n",
    "# ROC-AUC Bar Plot\n",
    "plt.figure(figsize=(10, 5))\n",
    "sns.barplot(x=list(models.keys()), y=avg_roc_auc)\n",
    "plt.title('Average ROC-AUC Across Models')\n",
    "plt.ylabel('ROC-AUC')\n",
    "plt.show()\n",
    "\n",
    "# Step 7: Display Classification Reports\n",
    "# Classification Report for Logistic Regression\n",
    "print(\"\\nDetailed Classification Report for Random Forest (Last Fold):\")\n",
    "model = models['Random Forest']\n",
    "model.fit(X_train, y_train) \n",
    "y_pred = model.predict(X_test)\n",
    "print(classification_report(y_test, y_pred))\n",
    "\n",
    "\n",
    "# Classification Report for Logistic Regression\n",
    "print(\"\\nDetailed Classification Report for Logistic Regression (Last Fold):\")\n",
    "log_reg_model = models['Logistic Regression']\n",
    "log_reg_model.fit(X_train, y_train)\n",
    "y_pred_log_reg = log_reg_model.predict(X_test)\n",
    "print(classification_report(y_test, y_pred_log_reg))\n",
    "\n",
    "# Classification Report for Decision Tree\n",
    "print(\"\\nDetailed Classification Report for Decision Tree (Last Fold):\")\n",
    "dt_model = models['Decision Tree']\n",
    "dt_model.fit(X_train, y_train) \n",
    "y_pred_dt = dt_model.predict(X_test)\n",
    "print(classification_report(y_test, y_pred_dt))\n",
    "\n",
    "# Classification Report for KNN\n",
    "print(\"\\nDetailed Classification Report for KNN (Last Fold):\")\n",
    "knn_model = models['KNN']\n",
    "knn_model.fit(X_train, y_train)\n",
    "y_pred_knn = knn_model.predict(X_test)\n",
    "print(classification_report(y_test, y_pred_knn))\n"
   ]
  },
  {
   "cell_type": "code",
   "execution_count": null,
   "metadata": {
    "colab": {
     "base_uri": "https://localhost:8080/"
    },
    "id": "DA7HKMXigeGL",
    "outputId": "ed1cd784-49e9-4e3f-a91c-a53ca3ac4ffe"
   },
   "outputs": [
    {
     "name": "stdout",
     "output_type": "stream",
     "text": [
      "Requirement already satisfied: openpyxl in /usr/local/lib/python3.10/dist-packages (3.1.5)\n",
      "Requirement already satisfied: et-xmlfile in /usr/local/lib/python3.10/dist-packages (from openpyxl) (2.0.0)\n"
     ]
    }
   ],
   "source": [
    "# Dashboard\n",
    "!pip install openpyxl"
   ]
  },
  {
   "cell_type": "code",
   "execution_count": null,
   "metadata": {
    "id": "8CcA8A4vg8zg"
   },
   "outputs": [],
   "source": [
    "# Save the processed data to an Excel file\n",
    "data.to_excel('/content/processed_creditcard_data.xlsx', index=False)"
   ]
  },
  {
   "cell_type": "code",
   "execution_count": null,
   "metadata": {
    "colab": {
     "base_uri": "https://localhost:8080/",
     "height": 17
    },
    "id": "jqlLSYhchU8c",
    "outputId": "9011ba05-dc4a-4ca3-b079-3eb7ecf5e6bd"
   },
   "outputs": [
    {
     "data": {
      "application/javascript": "\n    async function download(id, filename, size) {\n      if (!google.colab.kernel.accessAllowed) {\n        return;\n      }\n      const div = document.createElement('div');\n      const label = document.createElement('label');\n      label.textContent = `Downloading \"${filename}\": `;\n      div.appendChild(label);\n      const progress = document.createElement('progress');\n      progress.max = size;\n      div.appendChild(progress);\n      document.body.appendChild(div);\n\n      const buffers = [];\n      let downloaded = 0;\n\n      const channel = await google.colab.kernel.comms.open(id);\n      // Send a message to notify the kernel that we're ready.\n      channel.send({})\n\n      for await (const message of channel.messages) {\n        // Send a message to notify the kernel that we're ready.\n        channel.send({})\n        if (message.buffers) {\n          for (const buffer of message.buffers) {\n            buffers.push(buffer);\n            downloaded += buffer.byteLength;\n            progress.value = downloaded;\n          }\n        }\n      }\n      const blob = new Blob(buffers, {type: 'application/binary'});\n      const a = document.createElement('a');\n      a.href = window.URL.createObjectURL(blob);\n      a.download = filename;\n      div.appendChild(a);\n      a.click();\n      div.remove();\n    }\n  ",
      "text/plain": [
       "<IPython.core.display.Javascript object>"
      ]
     },
     "metadata": {},
     "output_type": "display_data"
    },
    {
     "data": {
      "application/javascript": "download(\"download_4c2b67f8-f94c-486a-914c-f3228868566f\", \"processed_creditcard_data.xlsx\", 117648752)",
      "text/plain": [
       "<IPython.core.display.Javascript object>"
      ]
     },
     "metadata": {},
     "output_type": "display_data"
    }
   ],
   "source": [
    "# Download the file to your local machine\n",
    "files.download('/content/processed_creditcard_data.xlsx')"
   ]
  },
  {
   "cell_type": "code",
   "execution_count": null,
   "metadata": {
    "colab": {
     "background_save": true
    },
    "id": "QNJj65LiRiME",
    "outputId": "46a007ed-a93a-4f8e-9372-96f4cd341b8f"
   },
   "outputs": [
    {
     "name": "stdout",
     "output_type": "stream",
     "text": [
      "Model and scaler saved successfully.\n",
      "Non-Fraudulent Transaction\n"
     ]
    }
   ],
   "source": [
    "import pandas as pd\n",
    "import joblib\n",
    "from sklearn.model_selection import train_test_split\n",
    "from sklearn.preprocessing import StandardScaler\n",
    "from sklearn.ensemble import RandomForestClassifier\n",
    "\n",
    "# Load your dataset\n",
    "# Replace 'your_dataset.csv' with the actual dataset path\n",
    "data = pd.read_csv('creditcard.csv')\n",
    "\n",
    "# Define features (X) and target (y)\n",
    "X = data.drop('Class', axis=1)  # Replace 'Class' with your target column name\n",
    "y = data['Class']\n",
    "\n",
    "# Split the dataset into training and testing sets\n",
    "X_train, X_test, y_train, y_test = train_test_split(X, y, test_size=0.3, random_state=42, stratify=y)\n",
    "\n",
    "# Step 1: Train and Save the Model and Scaler\n",
    "scaler = StandardScaler()\n",
    "X_train_scaled = X_train.copy()\n",
    "X_train_scaled[['Time', 'Amount']] = scaler.fit_transform(X_train[['Time', 'Amount']])\n",
    "\n",
    "# Train the Random Forest model\n",
    "model = RandomForestClassifier(random_state=42)\n",
    "model.fit(X_train_scaled, y_train)\n",
    "\n",
    "# Save the model and scaler\n",
    "joblib.dump(model, 'random_forest_model.pkl')\n",
    "joblib.dump(scaler, 'scaler.pkl')\n",
    "\n",
    "print(\"Model and scaler saved successfully.\")\n",
    "\n",
    "# Step 2: Define a function to preprocess the user input\n",
    "def preprocess_input(user_input):\n",
    "    # Load the scaler\n",
    "    scaler = joblib.load('scaler.pkl')\n",
    "\n",
    "    # Convert user input into a dataframe\n",
    "    input_data = pd.DataFrame([user_input], columns=X_train.columns)\n",
    "\n",
    "    # Scale the 'Time' and 'Amount' columns\n",
    "    input_data[['Time', 'Amount']] = scaler.transform(input_data[['Time', 'Amount']])\n",
    "\n",
    "    return input_data\n",
    "\n",
    "# Step 3: Define a function to make a prediction\n",
    "def predict_fraud(user_input):\n",
    "    # Load the trained model\n",
    "    model = joblib.load('random_forest_model.pkl')\n",
    "\n",
    "    # Preprocess the user input\n",
    "    preprocessed_input = preprocess_input(user_input)\n",
    "\n",
    "    # Make the prediction using the model\n",
    "    prediction = model.predict(preprocessed_input)\n",
    "\n",
    "    # Return the prediction result\n",
    "    return \"Fraudulent Transaction\" if prediction[0] == 1 else \"Non-Fraudulent Transaction\"\n",
    "\n",
    "# Step 4: Get user input and make a prediction\n",
    "user_input = [150000, -2.123, 0.345, -0.654, 0.567, 1.234, -0.987, 0.456, 0.652, -0.718, 1.385, 0.962, -0.616, 0.238, 0.2489, 0.456, 0.654, 0.567, 1.234, -0.956, 0.3155, 0.168, 0.652, -0.718, -0.123, 0.789, 0.4462,0.568, 1.205, 100.0]\n",
    "\n",
    "# Call the prediction function\n",
    "result = predict_fraud(user_input)\n",
    "print(result)"
   ]
  },
  {
   "cell_type": "code",
   "execution_count": null,
   "metadata": {},
   "outputs": [],
   "source": []
  }
 ],
 "metadata": {
  "colab": {
   "provenance": []
  },
  "kernelspec": {
   "display_name": "base",
   "language": "python",
   "name": "python3"
  },
  "language_info": {
   "codemirror_mode": {
    "name": "ipython",
    "version": 3
   },
   "file_extension": ".py",
   "mimetype": "text/x-python",
   "name": "python",
   "nbconvert_exporter": "python",
   "pygments_lexer": "ipython3",
   "version": "3.11.3"
  }
 },
 "nbformat": 4,
 "nbformat_minor": 0
}
